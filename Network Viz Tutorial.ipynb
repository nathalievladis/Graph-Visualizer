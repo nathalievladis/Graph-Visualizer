{
 "cells": [
  {
   "cell_type": "markdown",
   "metadata": {},
   "source": [
    "# Visualizing a Network Graph\n",
    "### Author: Nathalie A. Vladis PhD"
   ]
  },
  {
   "cell_type": "markdown",
   "metadata": {},
   "source": [
    "To execute this Notebook seamlessly you need to have a csv file called 'Relations' representing collaborator relationships and a csv file called 'Groups' listing each collaborator's affiliation."
   ]
  },
  {
   "cell_type": "code",
   "execution_count": null,
   "metadata": {},
   "outputs": [],
   "source": [
    "# In this cell we import all required packages\n",
    "import pandas as pd\n",
    "import matplotlib.pyplot as plt\n",
    "import networkx as nx"
   ]
  },
  {
   "cell_type": "code",
   "execution_count": null,
   "metadata": {},
   "outputs": [],
   "source": [
    "# Here we specify the colors we want for each affiliation goup\n",
    "group_cols = {'Group 1': '#1f5da2',\n",
    "              'Group 2': '#53b129',\n",
    "              'Group 3': '#48a4e3', \n",
    "              'Group 4': '#f59e28', \n",
    "             }"
   ]
  },
  {
   "cell_type": "markdown",
   "metadata": {},
   "source": [
    "Here are some additional colour-blind friendly options to choose from.\n",
    "<a href=\"https://imgur.com/bkpsxfL\"><img src=\"https://i.imgur.com/bkpsxfL.png\" title=\"source: imgur.com\" /></a>"
   ]
  },
  {
   "cell_type": "code",
   "execution_count": null,
   "metadata": {},
   "outputs": [],
   "source": [
    "# Importing datasets as specified in the introduction\n",
    "relationships = pd.read_csv('Relations.csv')\n",
    "groups = pd.read_csv('Groups.csv')"
   ]
  },
  {
   "cell_type": "code",
   "execution_count": null,
   "metadata": {},
   "outputs": [],
   "source": [
    "# Checking that our relationships look as we expected\n",
    "relationships.head()"
   ]
  },
  {
   "cell_type": "code",
   "execution_count": null,
   "metadata": {},
   "outputs": [],
   "source": [
    "# Ensuring that we have the groups we expected (no missing and no extras)\n",
    "groups.Group.unique()"
   ]
  },
  {
   "cell_type": "code",
   "execution_count": null,
   "metadata": {},
   "outputs": [],
   "source": [
    "# Ensuring that we have the expect number of members for each group\n",
    "from collections import Counter\n",
    "group_counts = Counter(groups.Group)\n",
    "print(group_counts)"
   ]
  },
  {
   "cell_type": "code",
   "execution_count": null,
   "metadata": {},
   "outputs": [],
   "source": [
    "# The code in this cell specifies parameters and creates the graph visualization\n",
    "# NB: For esthetic purposes 'row_limit' helps us specify how many collaborators we want to see per row\n",
    "group_names = [x for x in group_counts]\n",
    "row_limit = 5\n",
    "subset_sizes = []\n",
    "subset_names = []\n",
    "subset_color = []\n",
    "\n",
    "for group in group_names:\n",
    "    group_members = [x for x in groups[groups.Group == group].Node.unique()]\n",
    "    count = group_counts[group]\n",
    "    color = group_cols[group]\n",
    "    \n",
    "    while count > 0:\n",
    "        if count > row_limit:\n",
    "            subset_sizes.append(row_limit)\n",
    "            subset_color.append(color)\n",
    "            subset_names.append(group_members[:row_limit])\n",
    "            group_members = group_members[row_limit:]\n",
    "            count -= row_limit\n",
    "        else:\n",
    "            subset_sizes.append(count)\n",
    "            subset_color.append(color)\n",
    "            subset_names.append(group_members)\n",
    "            count = 0\n",
    "                \n",
    "\n",
    "\n",
    "def multilayered_graph(layers):\n",
    "    G = nx.Graph()\n",
    "    for (i, layer) in enumerate(layers):\n",
    "        G.add_nodes_from(layer, layer=i)\n",
    "    for line in relationships.iterrows():\n",
    "        a, b = line[1].Node.strip(), line[1].Relationship.strip()\n",
    "        \n",
    "        if relationships.Node.str.contains(a).any() and relationships.Node.str.contains(b).any():\n",
    "            \n",
    "            G.add_edge(a, b, alpha=0.3)\n",
    "        \n",
    "    return G\n",
    "\n",
    "\n",
    "\n",
    "G = multilayered_graph(subset_names)\n",
    "color = [subset_color[data[\"layer\"]] for v, data in G.nodes(data=True)]\n",
    "pos = nx.multipartite_layout(G, subset_key=\"layer\", scale=20)\n",
    "plt.figure(figsize=(20,8), dpi=300)\n",
    "# nx.draw(G, pos, node_color=color, with_labels=True)\n",
    "nx.draw_networkx_edges(G, pos, alpha=0.2, width=0.8)\n",
    "nx.draw_networkx_nodes(G, pos, node_color=color, node_size=250, alpha=0.9)\n",
    "\n",
    "\n",
    "for l in pos:\n",
    "    pos[l][1] += 0.5\n",
    "\n",
    "# Argument font_family chooses fonts for labels, popular optons include serif & sans-serif\n",
    "\n",
    "nx.draw_networkx_labels(G, pos, verticalalignment='baseline', horizontalalignment='center', font_family='sans-serif')\n",
    "plt.axis(\"equal\")\n",
    "plt.show()"
   ]
  },
  {
   "cell_type": "markdown",
   "metadata": {},
   "source": [
    "## Enjoy your new network visualization!"
   ]
  }
 ],
 "metadata": {
  "kernelspec": {
   "display_name": "Python 3",
   "language": "python",
   "name": "python3"
  },
  "language_info": {
   "codemirror_mode": {
    "name": "ipython",
    "version": 3
   },
   "file_extension": ".py",
   "mimetype": "text/x-python",
   "name": "python",
   "nbconvert_exporter": "python",
   "pygments_lexer": "ipython3",
   "version": "3.8.5"
  }
 },
 "nbformat": 4,
 "nbformat_minor": 4
}
